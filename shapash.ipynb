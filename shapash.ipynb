{
 "cells": [
  {
   "cell_type": "markdown",
   "id": "3b5ec5ea-4b8f-4fd1-8ce9-2bd3f15621cf",
   "metadata": {},
   "source": [
    "![title](xyz.png)"
   ]
  },
  {
   "cell_type": "code",
   "execution_count": 26,
   "id": "2bd68255-4ffb-42cc-abdd-4cc7173496a9",
   "metadata": {},
   "outputs": [
    {
     "name": "stdout",
     "output_type": "stream",
     "text": [
      "Requirement already satisfied: shapash in c:\\users\\shubham\\anaconda3\\envs\\machine_learning\\lib\\site-packages (1.6.1)\n",
      "Requirement already satisfied: dash-daq==0.5.0 in c:\\users\\shubham\\anaconda3\\envs\\machine_learning\\lib\\site-packages (from shapash) (0.5.0)\n",
      "Requirement already satisfied: scikit-learn in c:\\users\\shubham\\anaconda3\\envs\\machine_learning\\lib\\site-packages (from shapash) (1.0.2)\n",
      "Requirement already satisfied: pandas>1.0.2 in c:\\users\\shubham\\anaconda3\\envs\\machine_learning\\lib\\site-packages (from shapash) (1.3.5)\n",
      "Requirement already satisfied: numpy>1.18.0 in c:\\users\\shubham\\anaconda3\\envs\\machine_learning\\lib\\site-packages (from shapash) (1.22.1)\n",
      "Requirement already satisfied: shap>=0.36.0 in c:\\users\\shubham\\anaconda3\\envs\\machine_learning\\lib\\site-packages (from shapash) (0.40.0)\n",
      "Requirement already satisfied: numba==0.53.1 in c:\\users\\shubham\\anaconda3\\envs\\machine_learning\\lib\\site-packages (from shapash) (0.53.1)\n",
      "Requirement already satisfied: dash-renderer==1.8.3 in c:\\users\\shubham\\anaconda3\\envs\\machine_learning\\lib\\site-packages (from shapash) (1.8.3)\n",
      "Requirement already satisfied: matplotlib>=3.3.0 in c:\\users\\shubham\\anaconda3\\envs\\machine_learning\\lib\\site-packages (from shapash) (3.5.1)\n",
      "Requirement already satisfied: dash-table==4.11.0 in c:\\users\\shubham\\anaconda3\\envs\\machine_learning\\lib\\site-packages (from shapash) (4.11.0)\n",
      "Requirement already satisfied: nbformat>4.2.0 in c:\\users\\shubham\\anaconda3\\envs\\machine_learning\\lib\\site-packages (from shapash) (5.1.3)\n",
      "Requirement already satisfied: dash-core-components==1.13.0 in c:\\users\\shubham\\anaconda3\\envs\\machine_learning\\lib\\site-packages (from shapash) (1.13.0)\n",
      "Requirement already satisfied: dash-bootstrap-components==0.9.1 in c:\\users\\shubham\\anaconda3\\envs\\machine_learning\\lib\\site-packages (from shapash) (0.9.1)\n",
      "Requirement already satisfied: dash-html-components==1.1.1 in c:\\users\\shubham\\anaconda3\\envs\\machine_learning\\lib\\site-packages (from shapash) (1.1.1)\n",
      "Requirement already satisfied: dash==1.17.0 in c:\\users\\shubham\\anaconda3\\envs\\machine_learning\\lib\\site-packages (from shapash) (1.17.0)\n",
      "Requirement already satisfied: plotly==4.12.0 in c:\\users\\shubham\\anaconda3\\envs\\machine_learning\\lib\\site-packages (from shapash) (4.12.0)\n",
      "Requirement already satisfied: flask-compress in c:\\users\\shubham\\anaconda3\\envs\\machine_learning\\lib\\site-packages (from dash==1.17.0->shapash) (1.10.1)\n",
      "Requirement already satisfied: future in c:\\users\\shubham\\anaconda3\\envs\\machine_learning\\lib\\site-packages (from dash==1.17.0->shapash) (0.18.2)\n",
      "Requirement already satisfied: Flask>=1.0.2 in c:\\users\\shubham\\anaconda3\\envs\\machine_learning\\lib\\site-packages (from dash==1.17.0->shapash) (2.0.2)\n",
      "Requirement already satisfied: llvmlite<0.37,>=0.36.0rc1 in c:\\users\\shubham\\anaconda3\\envs\\machine_learning\\lib\\site-packages (from numba==0.53.1->shapash) (0.36.0)\n",
      "Requirement already satisfied: setuptools in c:\\users\\shubham\\anaconda3\\envs\\machine_learning\\lib\\site-packages (from numba==0.53.1->shapash) (58.0.4)\n",
      "Requirement already satisfied: retrying>=1.3.3 in c:\\users\\shubham\\anaconda3\\envs\\machine_learning\\lib\\site-packages (from plotly==4.12.0->shapash) (1.3.3)\n",
      "Requirement already satisfied: six in c:\\users\\shubham\\anaconda3\\envs\\machine_learning\\lib\\site-packages (from plotly==4.12.0->shapash) (1.16.0)\n",
      "Requirement already satisfied: itsdangerous>=2.0 in c:\\users\\shubham\\anaconda3\\envs\\machine_learning\\lib\\site-packages (from Flask>=1.0.2->dash==1.17.0->shapash) (2.0.1)\n",
      "Requirement already satisfied: Jinja2>=3.0 in c:\\users\\shubham\\anaconda3\\envs\\machine_learning\\lib\\site-packages (from Flask>=1.0.2->dash==1.17.0->shapash) (3.0.3)\n",
      "Requirement already satisfied: Werkzeug>=2.0 in c:\\users\\shubham\\anaconda3\\envs\\machine_learning\\lib\\site-packages (from Flask>=1.0.2->dash==1.17.0->shapash) (2.0.2)\n",
      "Requirement already satisfied: click>=7.1.2 in c:\\users\\shubham\\anaconda3\\envs\\machine_learning\\lib\\site-packages (from Flask>=1.0.2->dash==1.17.0->shapash) (8.0.3)\n",
      "Requirement already satisfied: colorama in c:\\users\\shubham\\anaconda3\\envs\\machine_learning\\lib\\site-packages (from click>=7.1.2->Flask>=1.0.2->dash==1.17.0->shapash) (0.4.4)\n",
      "Requirement already satisfied: MarkupSafe>=2.0 in c:\\users\\shubham\\anaconda3\\envs\\machine_learning\\lib\\site-packages (from Jinja2>=3.0->Flask>=1.0.2->dash==1.17.0->shapash) (2.0.1)\n",
      "Requirement already satisfied: packaging>=20.0 in c:\\users\\shubham\\anaconda3\\envs\\machine_learning\\lib\\site-packages (from matplotlib>=3.3.0->shapash) (21.3)\n",
      "Requirement already satisfied: pillow>=6.2.0 in c:\\users\\shubham\\anaconda3\\envs\\machine_learning\\lib\\site-packages (from matplotlib>=3.3.0->shapash) (9.0.0)\n",
      "Requirement already satisfied: kiwisolver>=1.0.1 in c:\\users\\shubham\\anaconda3\\envs\\machine_learning\\lib\\site-packages (from matplotlib>=3.3.0->shapash) (1.3.2)\n",
      "Requirement already satisfied: fonttools>=4.22.0 in c:\\users\\shubham\\anaconda3\\envs\\machine_learning\\lib\\site-packages (from matplotlib>=3.3.0->shapash) (4.28.5)\n",
      "Requirement already satisfied: python-dateutil>=2.7 in c:\\users\\shubham\\anaconda3\\envs\\machine_learning\\lib\\site-packages (from matplotlib>=3.3.0->shapash) (2.8.2)\n",
      "Requirement already satisfied: pyparsing>=2.2.1 in c:\\users\\shubham\\anaconda3\\envs\\machine_learning\\lib\\site-packages (from matplotlib>=3.3.0->shapash) (3.0.6)\n",
      "Requirement already satisfied: cycler>=0.10 in c:\\users\\shubham\\anaconda3\\envs\\machine_learning\\lib\\site-packages (from matplotlib>=3.3.0->shapash) (0.11.0)\n",
      "Requirement already satisfied: ipython-genutils in c:\\users\\shubham\\anaconda3\\envs\\machine_learning\\lib\\site-packages (from nbformat>4.2.0->shapash) (0.2.0)\n",
      "Requirement already satisfied: traitlets>=4.1 in c:\\users\\shubham\\anaconda3\\envs\\machine_learning\\lib\\site-packages (from nbformat>4.2.0->shapash) (5.1.1)\n",
      "Requirement already satisfied: jupyter-core in c:\\users\\shubham\\anaconda3\\envs\\machine_learning\\lib\\site-packages (from nbformat>4.2.0->shapash) (4.9.1)\n",
      "Requirement already satisfied: jsonschema!=2.5.0,>=2.4 in c:\\users\\shubham\\anaconda3\\envs\\machine_learning\\lib\\site-packages (from nbformat>4.2.0->shapash) (4.4.0)\n",
      "Requirement already satisfied: attrs>=17.4.0 in c:\\users\\shubham\\anaconda3\\envs\\machine_learning\\lib\\site-packages (from jsonschema!=2.5.0,>=2.4->nbformat>4.2.0->shapash) (21.4.0)\n",
      "Requirement already satisfied: pyrsistent!=0.17.0,!=0.17.1,!=0.17.2,>=0.14.0 in c:\\users\\shubham\\anaconda3\\envs\\machine_learning\\lib\\site-packages (from jsonschema!=2.5.0,>=2.4->nbformat>4.2.0->shapash) (0.18.1)\n",
      "Requirement already satisfied: importlib-resources>=1.4.0 in c:\\users\\shubham\\anaconda3\\envs\\machine_learning\\lib\\site-packages (from jsonschema!=2.5.0,>=2.4->nbformat>4.2.0->shapash) (5.4.0)\n",
      "Requirement already satisfied: zipp>=3.1.0 in c:\\users\\shubham\\anaconda3\\envs\\machine_learning\\lib\\site-packages (from importlib-resources>=1.4.0->jsonschema!=2.5.0,>=2.4->nbformat>4.2.0->shapash) (3.7.0)\n",
      "Requirement already satisfied: pytz>=2017.3 in c:\\users\\shubham\\anaconda3\\envs\\machine_learning\\lib\\site-packages (from pandas>1.0.2->shapash) (2021.3)\n",
      "Requirement already satisfied: scipy in c:\\users\\shubham\\anaconda3\\envs\\machine_learning\\lib\\site-packages (from shap>=0.36.0->shapash) (1.7.3)\n",
      "Requirement already satisfied: tqdm>4.25.0 in c:\\users\\shubham\\anaconda3\\envs\\machine_learning\\lib\\site-packages (from shap>=0.36.0->shapash) (4.62.3)\n",
      "Requirement already satisfied: cloudpickle in c:\\users\\shubham\\anaconda3\\envs\\machine_learning\\lib\\site-packages (from shap>=0.36.0->shapash) (2.0.0)\n",
      "Requirement already satisfied: slicer==0.0.7 in c:\\users\\shubham\\anaconda3\\envs\\machine_learning\\lib\\site-packages (from shap>=0.36.0->shapash) (0.0.7)\n",
      "Requirement already satisfied: brotli in c:\\users\\shubham\\anaconda3\\envs\\machine_learning\\lib\\site-packages (from flask-compress->dash==1.17.0->shapash) (1.0.9)\n",
      "Requirement already satisfied: pywin32>=1.0 in c:\\users\\shubham\\anaconda3\\envs\\machine_learning\\lib\\site-packages (from jupyter-core->nbformat>4.2.0->shapash) (303)\n",
      "Requirement already satisfied: joblib>=0.11 in c:\\users\\shubham\\anaconda3\\envs\\machine_learning\\lib\\site-packages (from scikit-learn->shapash) (1.1.0)\n",
      "Requirement already satisfied: threadpoolctl>=2.0.0 in c:\\users\\shubham\\anaconda3\\envs\\machine_learning\\lib\\site-packages (from scikit-learn->shapash) (3.0.0)\n"
     ]
    }
   ],
   "source": [
    "!pip install shapash"
   ]
  },
  {
   "cell_type": "code",
   "execution_count": 27,
   "id": "4245fd29-26c5-408a-bb45-aab7de8db547",
   "metadata": {},
   "outputs": [],
   "source": [
    "import pandas as pd\n",
    "import random\n",
    "from sklearn.model_selection import train_test_split\n",
    "from sklearn.ensemble import RandomForestRegressor\n",
    "from shapash.explainer.smart_explainer import SmartExplainer "
   ]
  },
  {
   "cell_type": "markdown",
   "id": "7ded2031-3beb-4c0c-bd9a-ca26102dd80d",
   "metadata": {},
   "source": [
    "# Loading Dataset\n"
   ]
  },
  {
   "cell_type": "code",
   "execution_count": 28,
   "id": "aebc8154-0fbf-41f0-b35a-141c192cbc45",
   "metadata": {},
   "outputs": [],
   "source": [
    " df = pd.read_csv(\"winequality-red.csv\")\n",
    " y = df['quality']\n",
    " X = df.drop(['quality'], axis = 1)\n"
   ]
  },
  {
   "cell_type": "code",
   "execution_count": 29,
   "id": "5cb8665a-3883-4299-ac4e-522146068d9e",
   "metadata": {},
   "outputs": [
    {
     "data": {
      "text/html": [
       "<div>\n",
       "<style scoped>\n",
       "    .dataframe tbody tr th:only-of-type {\n",
       "        vertical-align: middle;\n",
       "    }\n",
       "\n",
       "    .dataframe tbody tr th {\n",
       "        vertical-align: top;\n",
       "    }\n",
       "\n",
       "    .dataframe thead th {\n",
       "        text-align: right;\n",
       "    }\n",
       "</style>\n",
       "<table border=\"1\" class=\"dataframe\">\n",
       "  <thead>\n",
       "    <tr style=\"text-align: right;\">\n",
       "      <th></th>\n",
       "      <th>fixed acidity</th>\n",
       "      <th>volatile acidity</th>\n",
       "      <th>citric acid</th>\n",
       "      <th>residual sugar</th>\n",
       "      <th>chlorides</th>\n",
       "      <th>free sulfur dioxide</th>\n",
       "      <th>total sulfur dioxide</th>\n",
       "      <th>density</th>\n",
       "      <th>pH</th>\n",
       "      <th>sulphates</th>\n",
       "      <th>alcohol</th>\n",
       "      <th>quality</th>\n",
       "    </tr>\n",
       "  </thead>\n",
       "  <tbody>\n",
       "    <tr>\n",
       "      <th>0</th>\n",
       "      <td>7.4</td>\n",
       "      <td>0.70</td>\n",
       "      <td>0.00</td>\n",
       "      <td>1.9</td>\n",
       "      <td>0.076</td>\n",
       "      <td>11.0</td>\n",
       "      <td>34.0</td>\n",
       "      <td>0.9978</td>\n",
       "      <td>3.51</td>\n",
       "      <td>0.56</td>\n",
       "      <td>9.4</td>\n",
       "      <td>5</td>\n",
       "    </tr>\n",
       "    <tr>\n",
       "      <th>1</th>\n",
       "      <td>7.8</td>\n",
       "      <td>0.88</td>\n",
       "      <td>0.00</td>\n",
       "      <td>2.6</td>\n",
       "      <td>0.098</td>\n",
       "      <td>25.0</td>\n",
       "      <td>67.0</td>\n",
       "      <td>0.9968</td>\n",
       "      <td>3.20</td>\n",
       "      <td>0.68</td>\n",
       "      <td>9.8</td>\n",
       "      <td>5</td>\n",
       "    </tr>\n",
       "    <tr>\n",
       "      <th>2</th>\n",
       "      <td>7.8</td>\n",
       "      <td>0.76</td>\n",
       "      <td>0.04</td>\n",
       "      <td>2.3</td>\n",
       "      <td>0.092</td>\n",
       "      <td>15.0</td>\n",
       "      <td>54.0</td>\n",
       "      <td>0.9970</td>\n",
       "      <td>3.26</td>\n",
       "      <td>0.65</td>\n",
       "      <td>9.8</td>\n",
       "      <td>5</td>\n",
       "    </tr>\n",
       "    <tr>\n",
       "      <th>3</th>\n",
       "      <td>11.2</td>\n",
       "      <td>0.28</td>\n",
       "      <td>0.56</td>\n",
       "      <td>1.9</td>\n",
       "      <td>0.075</td>\n",
       "      <td>17.0</td>\n",
       "      <td>60.0</td>\n",
       "      <td>0.9980</td>\n",
       "      <td>3.16</td>\n",
       "      <td>0.58</td>\n",
       "      <td>9.8</td>\n",
       "      <td>6</td>\n",
       "    </tr>\n",
       "    <tr>\n",
       "      <th>4</th>\n",
       "      <td>7.4</td>\n",
       "      <td>0.70</td>\n",
       "      <td>0.00</td>\n",
       "      <td>1.9</td>\n",
       "      <td>0.076</td>\n",
       "      <td>11.0</td>\n",
       "      <td>34.0</td>\n",
       "      <td>0.9978</td>\n",
       "      <td>3.51</td>\n",
       "      <td>0.56</td>\n",
       "      <td>9.4</td>\n",
       "      <td>5</td>\n",
       "    </tr>\n",
       "  </tbody>\n",
       "</table>\n",
       "</div>"
      ],
      "text/plain": [
       "   fixed acidity  volatile acidity  citric acid  residual sugar  chlorides  \\\n",
       "0            7.4              0.70         0.00             1.9      0.076   \n",
       "1            7.8              0.88         0.00             2.6      0.098   \n",
       "2            7.8              0.76         0.04             2.3      0.092   \n",
       "3           11.2              0.28         0.56             1.9      0.075   \n",
       "4            7.4              0.70         0.00             1.9      0.076   \n",
       "\n",
       "   free sulfur dioxide  total sulfur dioxide  density    pH  sulphates  \\\n",
       "0                 11.0                  34.0   0.9978  3.51       0.56   \n",
       "1                 25.0                  67.0   0.9968  3.20       0.68   \n",
       "2                 15.0                  54.0   0.9970  3.26       0.65   \n",
       "3                 17.0                  60.0   0.9980  3.16       0.58   \n",
       "4                 11.0                  34.0   0.9978  3.51       0.56   \n",
       "\n",
       "   alcohol  quality  \n",
       "0      9.4        5  \n",
       "1      9.8        5  \n",
       "2      9.8        5  \n",
       "3      9.8        6  \n",
       "4      9.4        5  "
      ]
     },
     "execution_count": 29,
     "metadata": {},
     "output_type": "execute_result"
    }
   ],
   "source": [
    "df.head()"
   ]
  },
  {
   "cell_type": "markdown",
   "id": "4b0a74ac-3bf7-4dd4-915e-1fc3dc3967f2",
   "metadata": {},
   "source": [
    "# Splitting Dataset into Train And Test"
   ]
  },
  {
   "cell_type": "code",
   "execution_count": 30,
   "id": "165d6019-f4bc-4b5f-a654-c1f168b51111",
   "metadata": {},
   "outputs": [],
   "source": [
    " X_train, X_test, y_train, y_test = train_test_split(X, y, test_size = 0.3, random_state=42)\n",
    " "
   ]
  },
  {
   "cell_type": "markdown",
   "id": "eeac66b0-5d4c-4e35-8602-8524418476c8",
   "metadata": {},
   "source": [
    "# Training The Model"
   ]
  },
  {
   "cell_type": "code",
   "execution_count": 31,
   "id": "7fdfcaea-0125-4afe-90ac-4fbb3d46d40e",
   "metadata": {},
   "outputs": [
    {
     "data": {
      "text/plain": [
       "RandomForestRegressor(max_depth=5, n_estimators=12, random_state=42)"
      ]
     },
     "execution_count": 31,
     "metadata": {},
     "output_type": "execute_result"
    }
   ],
   "source": [
    "model = RandomForestRegressor(max_depth=5, random_state=42, n_estimators=12)\n",
    "model.fit(X_train, y_train)\n"
   ]
  },
  {
   "cell_type": "markdown",
   "id": "7e5d3892-d19d-4810-9e45-70223dbb75f6",
   "metadata": {},
   "source": [
    "# Prediction"
   ]
  },
  {
   "cell_type": "code",
   "execution_count": 32,
   "id": "3f3f644c-21f9-4d9a-9c27-13f36da91270",
   "metadata": {},
   "outputs": [
    {
     "data": {
      "text/html": [
       "<div>\n",
       "<style scoped>\n",
       "    .dataframe tbody tr th:only-of-type {\n",
       "        vertical-align: middle;\n",
       "    }\n",
       "\n",
       "    .dataframe tbody tr th {\n",
       "        vertical-align: top;\n",
       "    }\n",
       "\n",
       "    .dataframe thead th {\n",
       "        text-align: right;\n",
       "    }\n",
       "</style>\n",
       "<table border=\"1\" class=\"dataframe\">\n",
       "  <thead>\n",
       "    <tr style=\"text-align: right;\">\n",
       "      <th></th>\n",
       "      <th>pred</th>\n",
       "    </tr>\n",
       "  </thead>\n",
       "  <tbody>\n",
       "    <tr>\n",
       "      <th>803</th>\n",
       "      <td>5.326713</td>\n",
       "    </tr>\n",
       "    <tr>\n",
       "      <th>124</th>\n",
       "      <td>5.097386</td>\n",
       "    </tr>\n",
       "    <tr>\n",
       "      <th>350</th>\n",
       "      <td>5.442830</td>\n",
       "    </tr>\n",
       "    <tr>\n",
       "      <th>682</th>\n",
       "      <td>5.132046</td>\n",
       "    </tr>\n",
       "    <tr>\n",
       "      <th>1326</th>\n",
       "      <td>5.786685</td>\n",
       "    </tr>\n",
       "  </tbody>\n",
       "</table>\n",
       "</div>"
      ],
      "text/plain": [
       "          pred\n",
       "803   5.326713\n",
       "124   5.097386\n",
       "350   5.442830\n",
       "682   5.132046\n",
       "1326  5.786685"
      ]
     },
     "execution_count": 32,
     "metadata": {},
     "output_type": "execute_result"
    }
   ],
   "source": [
    "y_pred = pd.DataFrame(model.predict(X_test),columns=['pred'], index=X_test.index)\n",
    "y_pred.head()"
   ]
  },
  {
   "cell_type": "markdown",
   "id": "9a49a134-9202-401a-ad21-468f86046478",
   "metadata": {},
   "source": [
    "# Understand Model using Shapash \n",
    "In this section, we use the SmartExplainer Object from shapash.\n",
    "- It allows users to understand how the model works with the specified data. \n",
    "- This object must be used only for data mining step. Shapash provides another object for deployment.\n",
    "- In this tutorial, we are not exploring possibilites of the SmartExplainer but others will. (see other tutorials)"
   ]
  },
  {
   "cell_type": "code",
   "execution_count": 33,
   "id": "354cd1c7-2dd1-40ae-9fea-03c14190d642",
   "metadata": {},
   "outputs": [
    {
     "name": "stdout",
     "output_type": "stream",
     "text": [
      "Backend: Shap TreeExplainer\n"
     ]
    }
   ],
   "source": [
    "xpl = SmartExplainer()\n",
    "xpl.compile(x=X_test, model=model, y_pred=y_pred)"
   ]
  },
  {
   "cell_type": "markdown",
   "id": "5dc023f4-de69-48c2-a50a-e00805067316",
   "metadata": {},
   "source": [
    "## Start Web App"
   ]
  },
  {
   "cell_type": "code",
   "execution_count": 34,
   "id": "571d15a4-ec20-4238-8a61-4816f5d9dfd9",
   "metadata": {},
   "outputs": [
    {
     "name": "stdout",
     "output_type": "stream",
     "text": [
      "Dash is running on http://0.0.0.0:8050/\n",
      "\n"
     ]
    },
    {
     "name": "stderr",
     "output_type": "stream",
     "text": [
      "C:\\Users\\shubham\\anaconda3\\envs\\machine_learning\\lib\\site-packages\\shapash\\webapp\\smart_app.py:306: FutureWarning:\n",
      "\n",
      "Using short name for 'orient' is deprecated. Only the options: ('dict', list, 'series', 'split', 'records', 'index') will be used in a future version. Use one of the above to silence this warning.\n",
      "\n",
      "INFO:root:Your Shapash application run on http://MSI:8050/\n"
     ]
    },
    {
     "name": "stdout",
     "output_type": "stream",
     "text": [
      "Dash is running on http://0.0.0.0:8050/\n",
      "\n"
     ]
    },
    {
     "name": "stderr",
     "output_type": "stream",
     "text": [
      "INFO:root:Use the method .kill() to down your app.\n",
      "INFO:shapash.webapp.smart_app:Dash is running on http://0.0.0.0:8050/\n",
      "\n"
     ]
    },
    {
     "name": "stdout",
     "output_type": "stream",
     "text": [
      " * Serving Flask app 'shapash.webapp.smart_app' (lazy loading)\n",
      " * Environment: production\n",
      "\u001b[31m   WARNING: This is a development server. Do not use it in a production deployment.\u001b[0m\n",
      "\u001b[2m   Use a production WSGI server instead.\u001b[0m\n",
      " * Debug mode: off\n"
     ]
    },
    {
     "name": "stderr",
     "output_type": "stream",
     "text": [
      "WARNING:werkzeug: * Running on all addresses.\n",
      "   WARNING: This is a development server. Do not use it in a production deployment.\n",
      "INFO:werkzeug: * Running on http://192.168.29.92:8050/ (Press CTRL+C to quit)\n",
      "INFO:werkzeug:127.0.0.1 - - [15/Jan/2022 21:07:47] \"GET / HTTP/1.1\" 200 -\n",
      "INFO:werkzeug:127.0.0.1 - - [15/Jan/2022 21:07:47] \"\u001b[36mGET /assets/material-icons.css?m=1642254783.7509344 HTTP/1.1\u001b[0m\" 304 -\n",
      "INFO:werkzeug:127.0.0.1 - - [15/Jan/2022 21:07:47] \"\u001b[36mGET /assets/style.css?m=1642254783.7549238 HTTP/1.1\u001b[0m\" 304 -\n",
      "INFO:werkzeug:127.0.0.1 - - [15/Jan/2022 21:07:47] \"\u001b[36mGET /assets/jquery.js?m=1642254783.7499368 HTTP/1.1\u001b[0m\" 304 -\n",
      "INFO:werkzeug:127.0.0.1 - - [15/Jan/2022 21:07:47] \"\u001b[36mGET /assets/main.js?m=1642254783.7509344 HTTP/1.1\u001b[0m\" 304 -\n",
      "INFO:werkzeug:127.0.0.1 - - [15/Jan/2022 21:07:48] \"GET /_dash-dependencies HTTP/1.1\" 200 -\n",
      "INFO:werkzeug:127.0.0.1 - - [15/Jan/2022 21:07:48] \"GET /_dash-layout HTTP/1.1\" 200 -\n",
      "INFO:werkzeug:127.0.0.1 - - [15/Jan/2022 21:07:48] \"POST /_dash-update-component HTTP/1.1\" 200 -\n",
      "INFO:werkzeug:127.0.0.1 - - [15/Jan/2022 21:07:48] \"POST /_dash-update-component HTTP/1.1\" 200 -\n",
      "INFO:werkzeug:127.0.0.1 - - [15/Jan/2022 21:07:48] \"POST /_dash-update-component HTTP/1.1\" 200 -\n",
      "INFO:werkzeug:127.0.0.1 - - [15/Jan/2022 21:07:48] \"POST /_dash-update-component HTTP/1.1\" 200 -\n",
      "INFO:werkzeug:127.0.0.1 - - [15/Jan/2022 21:07:48] \"POST /_dash-update-component HTTP/1.1\" 200 -\n",
      "INFO:werkzeug:127.0.0.1 - - [15/Jan/2022 21:07:48] \"POST /_dash-update-component HTTP/1.1\" 200 -\n",
      "INFO:werkzeug:127.0.0.1 - - [15/Jan/2022 21:07:48] \"POST /_dash-update-component HTTP/1.1\" 200 -\n",
      "INFO:werkzeug:127.0.0.1 - - [15/Jan/2022 21:07:48] \"POST /_dash-update-component HTTP/1.1\" 200 -\n",
      "INFO:werkzeug:127.0.0.1 - - [15/Jan/2022 21:07:48] \"POST /_dash-update-component HTTP/1.1\" 200 -\n",
      "INFO:werkzeug:127.0.0.1 - - [15/Jan/2022 21:07:48] \"POST /_dash-update-component HTTP/1.1\" 200 -\n",
      "INFO:werkzeug:127.0.0.1 - - [15/Jan/2022 21:07:49] \"POST /_dash-update-component HTTP/1.1\" 200 -\n",
      "C:\\Users\\shubham\\anaconda3\\envs\\machine_learning\\lib\\site-packages\\shapash\\webapp\\smart_app.py:827: FutureWarning:\n",
      "\n",
      "Using short name for 'orient' is deprecated. Only the options: ('dict', list, 'series', 'split', 'records', 'index') will be used in a future version. Use one of the above to silence this warning.\n",
      "\n",
      "INFO:werkzeug:127.0.0.1 - - [15/Jan/2022 21:07:49] \"POST /_dash-update-component HTTP/1.1\" 200 -\n",
      "INFO:werkzeug:127.0.0.1 - - [15/Jan/2022 21:07:49] \"POST /_dash-update-component HTTP/1.1\" 200 -\n",
      "INFO:werkzeug:127.0.0.1 - - [15/Jan/2022 21:07:49] \"POST /_dash-update-component HTTP/1.1\" 200 -\n",
      "INFO:werkzeug:127.0.0.1 - - [15/Jan/2022 21:07:49] \"POST /_dash-update-component HTTP/1.1\" 200 -\n",
      "INFO:werkzeug:127.0.0.1 - - [15/Jan/2022 21:07:49] \"POST /_dash-update-component HTTP/1.1\" 200 -\n",
      "INFO:werkzeug:127.0.0.1 - - [15/Jan/2022 21:07:49] \"POST /_dash-update-component HTTP/1.1\" 200 -\n",
      "INFO:werkzeug:127.0.0.1 - - [15/Jan/2022 21:07:49] \"POST /_dash-update-component HTTP/1.1\" 200 -\n",
      "INFO:werkzeug:127.0.0.1 - - [15/Jan/2022 21:07:49] \"POST /_dash-update-component HTTP/1.1\" 200 -\n",
      "INFO:werkzeug:127.0.0.1 - - [15/Jan/2022 21:07:49] \"\u001b[36mGET /assets/shapash-fond-fonce.png HTTP/1.1\u001b[0m\" 304 -\n",
      "INFO:werkzeug:127.0.0.1 - - [15/Jan/2022 21:07:49] \"\u001b[36mGET /assets/settings.png HTTP/1.1\u001b[0m\" 304 -\n",
      "INFO:werkzeug:127.0.0.1 - - [15/Jan/2022 21:07:49] \"\u001b[36mGET /assets/reload.png HTTP/1.1\u001b[0m\" 304 -\n",
      "INFO:werkzeug:127.0.0.1 - - [15/Jan/2022 21:08:36] \"POST /_dash-update-component HTTP/1.1\" 200 -\n",
      "INFO:werkzeug:127.0.0.1 - - [15/Jan/2022 21:08:36] \"POST /_dash-update-component HTTP/1.1\" 200 -\n",
      "INFO:werkzeug:127.0.0.1 - - [15/Jan/2022 21:08:36] \"POST /_dash-update-component HTTP/1.1\" 200 -\n",
      "INFO:werkzeug:127.0.0.1 - - [15/Jan/2022 21:08:36] \"POST /_dash-update-component HTTP/1.1\" 200 -\n",
      "INFO:werkzeug:127.0.0.1 - - [15/Jan/2022 21:08:36] \"POST /_dash-update-component HTTP/1.1\" 200 -\n",
      "INFO:werkzeug:127.0.0.1 - - [15/Jan/2022 21:08:36] \"POST /_dash-update-component HTTP/1.1\" 200 -\n",
      "INFO:werkzeug:127.0.0.1 - - [15/Jan/2022 21:08:36] \"POST /_dash-update-component HTTP/1.1\" 200 -\n",
      "INFO:werkzeug:127.0.0.1 - - [15/Jan/2022 21:08:36] \"POST /_dash-update-component HTTP/1.1\" 200 -\n",
      "INFO:werkzeug:127.0.0.1 - - [15/Jan/2022 21:08:37] \"POST /_dash-update-component HTTP/1.1\" 200 -\n",
      "INFO:werkzeug:127.0.0.1 - - [15/Jan/2022 21:08:37] \"POST /_dash-update-component HTTP/1.1\" 200 -\n",
      "INFO:werkzeug:127.0.0.1 - - [15/Jan/2022 21:09:00] \"POST /_dash-update-component HTTP/1.1\" 200 -\n",
      "INFO:werkzeug:127.0.0.1 - - [15/Jan/2022 21:09:00] \"POST /_dash-update-component HTTP/1.1\" 200 -\n",
      "INFO:werkzeug:127.0.0.1 - - [15/Jan/2022 21:09:04] \"POST /_dash-update-component HTTP/1.1\" 200 -\n",
      "INFO:werkzeug:127.0.0.1 - - [15/Jan/2022 21:09:04] \"POST /_dash-update-component HTTP/1.1\" 200 -\n",
      "INFO:werkzeug:127.0.0.1 - - [15/Jan/2022 21:09:06] \"POST /_dash-update-component HTTP/1.1\" 200 -\n",
      "INFO:werkzeug:127.0.0.1 - - [15/Jan/2022 21:09:07] \"POST /_dash-update-component HTTP/1.1\" 200 -\n",
      "INFO:werkzeug:127.0.0.1 - - [15/Jan/2022 21:09:10] \"POST /_dash-update-component HTTP/1.1\" 200 -\n",
      "INFO:werkzeug:127.0.0.1 - - [15/Jan/2022 21:09:10] \"POST /_dash-update-component HTTP/1.1\" 200 -\n",
      "INFO:werkzeug:127.0.0.1 - - [15/Jan/2022 21:09:18] \"POST /_dash-update-component HTTP/1.1\" 200 -\n",
      "INFO:werkzeug:127.0.0.1 - - [15/Jan/2022 21:09:18] \"POST /_dash-update-component HTTP/1.1\" 200 -\n",
      "INFO:werkzeug:127.0.0.1 - - [15/Jan/2022 21:09:38] \"\u001b[35m\u001b[1mPOST /_dash-update-component HTTP/1.1\u001b[0m\" 204 -\n",
      "INFO:werkzeug:127.0.0.1 - - [15/Jan/2022 21:09:38] \"POST /_dash-update-component HTTP/1.1\" 200 -\n",
      "INFO:werkzeug:127.0.0.1 - - [15/Jan/2022 21:09:39] \"\u001b[35m\u001b[1mPOST /_dash-update-component HTTP/1.1\u001b[0m\" 204 -\n",
      "INFO:werkzeug:127.0.0.1 - - [15/Jan/2022 21:09:39] \"POST /_dash-update-component HTTP/1.1\" 200 -\n",
      "INFO:werkzeug:127.0.0.1 - - [15/Jan/2022 21:09:42] \"\u001b[35m\u001b[1mPOST /_dash-update-component HTTP/1.1\u001b[0m\" 204 -\n",
      "INFO:werkzeug:127.0.0.1 - - [15/Jan/2022 21:09:43] \"\u001b[35m\u001b[1mPOST /_dash-update-component HTTP/1.1\u001b[0m\" 204 -\n",
      "INFO:werkzeug:127.0.0.1 - - [15/Jan/2022 21:10:45] \"\u001b[35m\u001b[1mPOST /_dash-update-component HTTP/1.1\u001b[0m\" 204 -\n",
      "INFO:werkzeug:127.0.0.1 - - [15/Jan/2022 21:10:46] \"POST /_dash-update-component HTTP/1.1\" 200 -\n",
      "INFO:werkzeug:127.0.0.1 - - [15/Jan/2022 21:11:05] \"POST /_dash-update-component HTTP/1.1\" 200 -\n",
      "INFO:werkzeug:127.0.0.1 - - [15/Jan/2022 21:11:05] \"POST /_dash-update-component HTTP/1.1\" 200 -\n",
      "INFO:werkzeug:127.0.0.1 - - [15/Jan/2022 21:11:05] \"POST /_dash-update-component HTTP/1.1\" 200 -\n",
      "INFO:werkzeug:127.0.0.1 - - [15/Jan/2022 21:11:05] \"POST /_dash-update-component HTTP/1.1\" 200 -\n",
      "INFO:werkzeug:127.0.0.1 - - [15/Jan/2022 21:11:05] \"POST /_dash-update-component HTTP/1.1\" 200 -\n",
      "INFO:werkzeug:127.0.0.1 - - [15/Jan/2022 21:11:06] \"POST /_dash-update-component HTTP/1.1\" 200 -\n",
      "INFO:werkzeug:127.0.0.1 - - [15/Jan/2022 21:11:06] \"POST /_dash-update-component HTTP/1.1\" 200 -\n",
      "INFO:werkzeug:127.0.0.1 - - [15/Jan/2022 21:11:06] \"POST /_dash-update-component HTTP/1.1\" 200 -\n",
      "INFO:werkzeug:127.0.0.1 - - [15/Jan/2022 21:11:06] \"POST /_dash-update-component HTTP/1.1\" 200 -\n",
      "INFO:werkzeug:127.0.0.1 - - [15/Jan/2022 21:11:06] \"POST /_dash-update-component HTTP/1.1\" 200 -\n",
      "INFO:werkzeug:127.0.0.1 - - [15/Jan/2022 21:11:56] \"POST /_dash-update-component HTTP/1.1\" 200 -\n",
      "INFO:werkzeug:127.0.0.1 - - [15/Jan/2022 21:11:58] \"POST /_dash-update-component HTTP/1.1\" 200 -\n",
      "INFO:werkzeug:127.0.0.1 - - [15/Jan/2022 21:12:01] \"POST /_dash-update-component HTTP/1.1\" 200 -\n",
      "INFO:werkzeug:127.0.0.1 - - [15/Jan/2022 21:12:09] \"POST /_dash-update-component HTTP/1.1\" 200 -\n",
      "INFO:werkzeug:127.0.0.1 - - [15/Jan/2022 21:12:10] \"POST /_dash-update-component HTTP/1.1\" 200 -\n",
      "INFO:werkzeug:127.0.0.1 - - [15/Jan/2022 21:12:25] \"\u001b[35m\u001b[1mPOST /_dash-update-component HTTP/1.1\u001b[0m\" 204 -\n",
      "INFO:werkzeug:127.0.0.1 - - [15/Jan/2022 21:12:35] \"POST /_dash-update-component HTTP/1.1\" 200 -\n",
      "INFO:werkzeug:127.0.0.1 - - [15/Jan/2022 21:12:37] \"POST /_dash-update-component HTTP/1.1\" 200 -\n",
      "INFO:werkzeug:127.0.0.1 - - [15/Jan/2022 21:13:15] \"\u001b[35m\u001b[1mPOST /_dash-update-component HTTP/1.1\u001b[0m\" 204 -\n",
      "INFO:werkzeug:127.0.0.1 - - [15/Jan/2022 21:13:15] \"\u001b[35m\u001b[1mPOST /_dash-update-component HTTP/1.1\u001b[0m\" 204 -\n",
      "INFO:werkzeug:127.0.0.1 - - [15/Jan/2022 21:13:15] \"POST /_dash-update-component HTTP/1.1\" 200 -\n",
      "INFO:werkzeug:127.0.0.1 - - [15/Jan/2022 21:13:16] \"\u001b[35m\u001b[1mPOST /_dash-update-component HTTP/1.1\u001b[0m\" 204 -\n",
      "INFO:werkzeug:127.0.0.1 - - [15/Jan/2022 21:13:16] \"POST /_dash-update-component HTTP/1.1\" 200 -\n",
      "INFO:werkzeug:127.0.0.1 - - [15/Jan/2022 21:13:16] \"\u001b[35m\u001b[1mPOST /_dash-update-component HTTP/1.1\u001b[0m\" 204 -\n",
      "INFO:werkzeug:127.0.0.1 - - [15/Jan/2022 21:13:16] \"POST /_dash-update-component HTTP/1.1\" 200 -\n",
      "INFO:werkzeug:127.0.0.1 - - [15/Jan/2022 21:13:41] \"\u001b[35m\u001b[1mPOST /_dash-update-component HTTP/1.1\u001b[0m\" 204 -\n",
      "INFO:werkzeug:127.0.0.1 - - [15/Jan/2022 21:13:42] \"POST /_dash-update-component HTTP/1.1\" 200 -\n",
      "INFO:werkzeug:127.0.0.1 - - [15/Jan/2022 21:13:42] \"\u001b[35m\u001b[1mPOST /_dash-update-component HTTP/1.1\u001b[0m\" 204 -\n",
      "INFO:werkzeug:127.0.0.1 - - [15/Jan/2022 21:13:42] \"POST /_dash-update-component HTTP/1.1\" 200 -\n"
     ]
    }
   ],
   "source": [
    "app = xpl.run_app(title_story='Red_Wine_dataset')"
   ]
  },
  {
   "cell_type": "markdown",
   "id": "f368f565-8337-4532-9feb-9285b781b85c",
   "metadata": {},
   "source": [
    "## Stop the web app"
   ]
  },
  {
   "cell_type": "code",
   "execution_count": 35,
   "id": "895424f9-429c-41b2-8805-eb24546ae0bb",
   "metadata": {},
   "outputs": [],
   "source": [
    "app.kill()"
   ]
  },
  {
   "cell_type": "markdown",
   "id": "5adf9f9a-e653-4f82-b63e-5003cd430a55",
   "metadata": {},
   "source": [
    "# Export Local Explaination in DataFrame"
   ]
  },
  {
   "cell_type": "code",
   "execution_count": 36,
   "id": "872a882a-daa2-4303-993c-c6a4563ede3a",
   "metadata": {},
   "outputs": [],
   "source": [
    "summary_df= xpl.to_pandas(\n",
    "    max_contrib=3, # Number Max of features to show in summary\n",
    ")"
   ]
  },
  {
   "cell_type": "code",
   "execution_count": 37,
   "id": "f7954cbd-9b99-4927-97e6-aa7ec0286100",
   "metadata": {},
   "outputs": [
    {
     "data": {
      "text/html": [
       "<div>\n",
       "<style scoped>\n",
       "    .dataframe tbody tr th:only-of-type {\n",
       "        vertical-align: middle;\n",
       "    }\n",
       "\n",
       "    .dataframe tbody tr th {\n",
       "        vertical-align: top;\n",
       "    }\n",
       "\n",
       "    .dataframe thead th {\n",
       "        text-align: right;\n",
       "    }\n",
       "</style>\n",
       "<table border=\"1\" class=\"dataframe\">\n",
       "  <thead>\n",
       "    <tr style=\"text-align: right;\">\n",
       "      <th></th>\n",
       "      <th>pred</th>\n",
       "      <th>feature_1</th>\n",
       "      <th>value_1</th>\n",
       "      <th>contribution_1</th>\n",
       "      <th>feature_2</th>\n",
       "      <th>value_2</th>\n",
       "      <th>contribution_2</th>\n",
       "      <th>feature_3</th>\n",
       "      <th>value_3</th>\n",
       "      <th>contribution_3</th>\n",
       "    </tr>\n",
       "  </thead>\n",
       "  <tbody>\n",
       "    <tr>\n",
       "      <th>803</th>\n",
       "      <td>5.326713</td>\n",
       "      <td>alcohol</td>\n",
       "      <td>9.6</td>\n",
       "      <td>-0.326036</td>\n",
       "      <td>sulphates</td>\n",
       "      <td>0.66</td>\n",
       "      <td>0.096204</td>\n",
       "      <td>volatile acidity</td>\n",
       "      <td>0.56</td>\n",
       "      <td>-0.05707</td>\n",
       "    </tr>\n",
       "    <tr>\n",
       "      <th>124</th>\n",
       "      <td>5.097386</td>\n",
       "      <td>alcohol</td>\n",
       "      <td>9.5</td>\n",
       "      <td>-0.265643</td>\n",
       "      <td>sulphates</td>\n",
       "      <td>0.48</td>\n",
       "      <td>-0.166499</td>\n",
       "      <td>total sulfur dioxide</td>\n",
       "      <td>102.0</td>\n",
       "      <td>-0.065542</td>\n",
       "    </tr>\n",
       "    <tr>\n",
       "      <th>350</th>\n",
       "      <td>5.442830</td>\n",
       "      <td>alcohol</td>\n",
       "      <td>9.9</td>\n",
       "      <td>-0.307102</td>\n",
       "      <td>sulphates</td>\n",
       "      <td>0.98</td>\n",
       "      <td>0.157862</td>\n",
       "      <td>total sulfur dioxide</td>\n",
       "      <td>34.0</td>\n",
       "      <td>0.113178</td>\n",
       "    </tr>\n",
       "    <tr>\n",
       "      <th>682</th>\n",
       "      <td>5.132046</td>\n",
       "      <td>alcohol</td>\n",
       "      <td>9.8</td>\n",
       "      <td>-0.253048</td>\n",
       "      <td>sulphates</td>\n",
       "      <td>0.54</td>\n",
       "      <td>-0.195841</td>\n",
       "      <td>volatile acidity</td>\n",
       "      <td>0.46</td>\n",
       "      <td>-0.025466</td>\n",
       "    </tr>\n",
       "    <tr>\n",
       "      <th>1326</th>\n",
       "      <td>5.786685</td>\n",
       "      <td>alcohol</td>\n",
       "      <td>10.6</td>\n",
       "      <td>0.110827</td>\n",
       "      <td>sulphates</td>\n",
       "      <td>0.6</td>\n",
       "      <td>0.048298</td>\n",
       "      <td>total sulfur dioxide</td>\n",
       "      <td>34.0</td>\n",
       "      <td>0.041631</td>\n",
       "    </tr>\n",
       "  </tbody>\n",
       "</table>\n",
       "</div>"
      ],
      "text/plain": [
       "          pred feature_1 value_1 contribution_1  feature_2 value_2  \\\n",
       "803   5.326713   alcohol     9.6      -0.326036  sulphates    0.66   \n",
       "124   5.097386   alcohol     9.5      -0.265643  sulphates    0.48   \n",
       "350   5.442830   alcohol     9.9      -0.307102  sulphates    0.98   \n",
       "682   5.132046   alcohol     9.8      -0.253048  sulphates    0.54   \n",
       "1326  5.786685   alcohol    10.6       0.110827  sulphates     0.6   \n",
       "\n",
       "     contribution_2             feature_3 value_3 contribution_3  \n",
       "803        0.096204      volatile acidity    0.56       -0.05707  \n",
       "124       -0.166499  total sulfur dioxide   102.0      -0.065542  \n",
       "350        0.157862  total sulfur dioxide    34.0       0.113178  \n",
       "682       -0.195841      volatile acidity    0.46      -0.025466  \n",
       "1326       0.048298  total sulfur dioxide    34.0       0.041631  "
      ]
     },
     "execution_count": 37,
     "metadata": {},
     "output_type": "execute_result"
    }
   ],
   "source": [
    "summary_df.head()"
   ]
  },
  {
   "cell_type": "markdown",
   "id": "8dc64780-9530-4e97-bbad-30d2d4ba0a9b",
   "metadata": {},
   "source": [
    "# Save Smart Explainer\n",
    "You can save the SmartExplainer Object in a pickle file to make new plots later or launch the WebApp again"
   ]
  },
  {
   "cell_type": "code",
   "execution_count": 38,
   "id": "693628db-0ba8-4c05-b86f-c3d54f8d93ac",
   "metadata": {},
   "outputs": [],
   "source": [
    "xpl.save('./xpl.pkl')"
   ]
  },
  {
   "cell_type": "markdown",
   "id": "c9dc9aff-d3cb-43d8-a81f-f2f3619fa7f4",
   "metadata": {},
   "source": [
    "# In Production"
   ]
  },
  {
   "cell_type": "markdown",
   "id": "d7cb39c2-409f-4552-b107-b9717547ea11",
   "metadata": {},
   "source": [
    "### Switch from SmartExplainer to SmartPredictor\n",
    "When you are satisfied by your results and the explainablity given by Shapash, you can use the SmartPredictor object for deployment. \n",
    "- In this section, we learn how to easily switch from SmartExplainer to a SmartPredictor.\n",
    "- SmartPredictor allows you to make predictions, detail and summarize contributions on new data automatically.\n",
    "- It only keeps the attributes needed for deployment to be lighter than the SmartExplainer object. \n",
    "- SmartPredictor performs additional consistency checks before deployment.\n",
    "- SmartPredictor allows you to configure the way of summary to suit your use cases.\n",
    "- It can be used with API or in batch mode."
   ]
  },
  {
   "cell_type": "code",
   "execution_count": 39,
   "id": "fb679599-4808-4844-ab77-9a3dc793389f",
   "metadata": {},
   "outputs": [],
   "source": [
    "predictor = xpl.to_smartpredictor()"
   ]
  },
  {
   "cell_type": "markdown",
   "id": "0752e6d6-c2d0-46ad-bc35-0cc644762459",
   "metadata": {},
   "source": [
    "#### Save your SmartPredictor in Pickle File"
   ]
  },
  {
   "cell_type": "code",
   "execution_count": 40,
   "id": "f8cca832-9bc0-4610-95a7-466c961ec60c",
   "metadata": {},
   "outputs": [],
   "source": [
    "predictor.save('./predictor.pkl')"
   ]
  },
  {
   "cell_type": "markdown",
   "id": "196627b9-ad22-4d60-ba7a-386f4c182723",
   "metadata": {},
   "source": [
    "#### Load SmartPredictor"
   ]
  },
  {
   "cell_type": "code",
   "execution_count": 41,
   "id": "1271a3c4-6bd3-4a49-a867-e4efc9437b2b",
   "metadata": {},
   "outputs": [],
   "source": [
    "from shapash.utils.load_smartpredictor import load_smartpredictor\n",
    "predictor_load = load_smartpredictor('./predictor.pkl')"
   ]
  },
  {
   "cell_type": "markdown",
   "id": "85ec50e1-f136-4444-ad1d-b6df9105d411",
   "metadata": {},
   "source": [
    "# Make prediction"
   ]
  },
  {
   "cell_type": "markdown",
   "id": "aa8aa7e0-ca44-459d-bb68-7f816ad28a4a",
   "metadata": {},
   "source": [
    "#### Add Data\n",
    "The x input in add_input method doesn't have to be encoded, add_input applies preprocessing."
   ]
  },
  {
   "cell_type": "code",
   "execution_count": 44,
   "id": "82fae7f4-7df4-41b0-8339-1587607566a1",
   "metadata": {},
   "outputs": [],
   "source": [
    "predictor_load.add_input(x=X, ypred=y)"
   ]
  },
  {
   "cell_type": "markdown",
   "id": "c33586a1-6a67-406d-9f8c-735aa342742f",
   "metadata": {},
   "source": [
    "#### Prediction"
   ]
  },
  {
   "cell_type": "code",
   "execution_count": 45,
   "id": "a9d3083a-8370-4cb3-905f-ceadf3e4f65b",
   "metadata": {},
   "outputs": [
    {
     "data": {
      "text/html": [
       "<div>\n",
       "<style scoped>\n",
       "    .dataframe tbody tr th:only-of-type {\n",
       "        vertical-align: middle;\n",
       "    }\n",
       "\n",
       "    .dataframe tbody tr th {\n",
       "        vertical-align: top;\n",
       "    }\n",
       "\n",
       "    .dataframe thead th {\n",
       "        text-align: right;\n",
       "    }\n",
       "</style>\n",
       "<table border=\"1\" class=\"dataframe\">\n",
       "  <thead>\n",
       "    <tr style=\"text-align: right;\">\n",
       "      <th></th>\n",
       "      <th>quality</th>\n",
       "    </tr>\n",
       "  </thead>\n",
       "  <tbody>\n",
       "    <tr>\n",
       "      <th>0</th>\n",
       "      <td>5</td>\n",
       "    </tr>\n",
       "    <tr>\n",
       "      <th>1</th>\n",
       "      <td>5</td>\n",
       "    </tr>\n",
       "    <tr>\n",
       "      <th>2</th>\n",
       "      <td>5</td>\n",
       "    </tr>\n",
       "    <tr>\n",
       "      <th>3</th>\n",
       "      <td>6</td>\n",
       "    </tr>\n",
       "    <tr>\n",
       "      <th>4</th>\n",
       "      <td>5</td>\n",
       "    </tr>\n",
       "  </tbody>\n",
       "</table>\n",
       "</div>"
      ],
      "text/plain": [
       "   quality\n",
       "0        5\n",
       "1        5\n",
       "2        5\n",
       "3        6\n",
       "4        5"
      ]
     },
     "execution_count": 45,
     "metadata": {},
     "output_type": "execute_result"
    }
   ],
   "source": [
    "predictor_load.data[\"ypred\"].head()"
   ]
  },
  {
   "cell_type": "markdown",
   "id": "60a3d828-5f72-4c9f-a973-3722b60ccf3c",
   "metadata": {},
   "source": [
    "## Detail Explainability about Prediction"
   ]
  },
  {
   "cell_type": "markdown",
   "id": "15ad4f32-6eda-4d35-aa12-14f7af58dd8f",
   "metadata": {},
   "source": [
    "You can use the method detail_contributions to see the detailed contributions of each of your features for each row of your new dataset.\n",
    "- For classification problems, it automatically associates contributions with the right predicted label. \n",
    "- The predicted label can be computed automatically in the method or you can specify an ypred with add_input method."
   ]
  },
  {
   "cell_type": "code",
   "execution_count": 46,
   "id": "555b5b36-3e96-4c99-ba66-1066a96bbde6",
   "metadata": {},
   "outputs": [
    {
     "data": {
      "text/html": [
       "<div>\n",
       "<style scoped>\n",
       "    .dataframe tbody tr th:only-of-type {\n",
       "        vertical-align: middle;\n",
       "    }\n",
       "\n",
       "    .dataframe tbody tr th {\n",
       "        vertical-align: top;\n",
       "    }\n",
       "\n",
       "    .dataframe thead th {\n",
       "        text-align: right;\n",
       "    }\n",
       "</style>\n",
       "<table border=\"1\" class=\"dataframe\">\n",
       "  <thead>\n",
       "    <tr style=\"text-align: right;\">\n",
       "      <th></th>\n",
       "      <th>quality</th>\n",
       "      <th>fixed acidity</th>\n",
       "      <th>volatile acidity</th>\n",
       "      <th>citric acid</th>\n",
       "      <th>residual sugar</th>\n",
       "      <th>chlorides</th>\n",
       "      <th>free sulfur dioxide</th>\n",
       "      <th>total sulfur dioxide</th>\n",
       "      <th>density</th>\n",
       "      <th>pH</th>\n",
       "      <th>sulphates</th>\n",
       "      <th>alcohol</th>\n",
       "    </tr>\n",
       "  </thead>\n",
       "  <tbody>\n",
       "    <tr>\n",
       "      <th>0</th>\n",
       "      <td>5</td>\n",
       "      <td>-0.005205</td>\n",
       "      <td>-0.016795</td>\n",
       "      <td>0.006154</td>\n",
       "      <td>0.006258</td>\n",
       "      <td>0.004728</td>\n",
       "      <td>0.003594</td>\n",
       "      <td>0.043806</td>\n",
       "      <td>-0.002750</td>\n",
       "      <td>-0.009844</td>\n",
       "      <td>-0.172608</td>\n",
       "      <td>-0.247921</td>\n",
       "    </tr>\n",
       "    <tr>\n",
       "      <th>1</th>\n",
       "      <td>5</td>\n",
       "      <td>0.004325</td>\n",
       "      <td>-0.114696</td>\n",
       "      <td>0.001380</td>\n",
       "      <td>0.007085</td>\n",
       "      <td>-0.044455</td>\n",
       "      <td>-0.021742</td>\n",
       "      <td>-0.053328</td>\n",
       "      <td>-0.002561</td>\n",
       "      <td>0.013933</td>\n",
       "      <td>0.102693</td>\n",
       "      <td>-0.288787</td>\n",
       "    </tr>\n",
       "    <tr>\n",
       "      <th>2</th>\n",
       "      <td>5</td>\n",
       "      <td>0.004216</td>\n",
       "      <td>-0.077735</td>\n",
       "      <td>-0.000275</td>\n",
       "      <td>0.005243</td>\n",
       "      <td>-0.010588</td>\n",
       "      <td>0.005058</td>\n",
       "      <td>-0.033811</td>\n",
       "      <td>0.000098</td>\n",
       "      <td>0.013222</td>\n",
       "      <td>0.112628</td>\n",
       "      <td>-0.328322</td>\n",
       "    </tr>\n",
       "    <tr>\n",
       "      <th>3</th>\n",
       "      <td>6</td>\n",
       "      <td>-0.015129</td>\n",
       "      <td>0.303148</td>\n",
       "      <td>-0.020723</td>\n",
       "      <td>0.023581</td>\n",
       "      <td>-0.014436</td>\n",
       "      <td>0.005790</td>\n",
       "      <td>-0.021160</td>\n",
       "      <td>-0.003865</td>\n",
       "      <td>0.014717</td>\n",
       "      <td>-0.079952</td>\n",
       "      <td>-0.261541</td>\n",
       "    </tr>\n",
       "    <tr>\n",
       "      <th>4</th>\n",
       "      <td>5</td>\n",
       "      <td>-0.005205</td>\n",
       "      <td>-0.016795</td>\n",
       "      <td>0.006154</td>\n",
       "      <td>0.006258</td>\n",
       "      <td>0.004728</td>\n",
       "      <td>0.003594</td>\n",
       "      <td>0.043806</td>\n",
       "      <td>-0.002750</td>\n",
       "      <td>-0.009844</td>\n",
       "      <td>-0.172608</td>\n",
       "      <td>-0.247921</td>\n",
       "    </tr>\n",
       "  </tbody>\n",
       "</table>\n",
       "</div>"
      ],
      "text/plain": [
       "   quality  fixed acidity  volatile acidity  citric acid  residual sugar  \\\n",
       "0        5      -0.005205         -0.016795     0.006154        0.006258   \n",
       "1        5       0.004325         -0.114696     0.001380        0.007085   \n",
       "2        5       0.004216         -0.077735    -0.000275        0.005243   \n",
       "3        6      -0.015129          0.303148    -0.020723        0.023581   \n",
       "4        5      -0.005205         -0.016795     0.006154        0.006258   \n",
       "\n",
       "   chlorides  free sulfur dioxide  total sulfur dioxide   density        pH  \\\n",
       "0   0.004728             0.003594              0.043806 -0.002750 -0.009844   \n",
       "1  -0.044455            -0.021742             -0.053328 -0.002561  0.013933   \n",
       "2  -0.010588             0.005058             -0.033811  0.000098  0.013222   \n",
       "3  -0.014436             0.005790             -0.021160 -0.003865  0.014717   \n",
       "4   0.004728             0.003594              0.043806 -0.002750 -0.009844   \n",
       "\n",
       "   sulphates   alcohol  \n",
       "0  -0.172608 -0.247921  \n",
       "1   0.102693 -0.288787  \n",
       "2   0.112628 -0.328322  \n",
       "3  -0.079952 -0.261541  \n",
       "4  -0.172608 -0.247921  "
      ]
     },
     "execution_count": 46,
     "metadata": {},
     "output_type": "execute_result"
    }
   ],
   "source": [
    "detailed_contributions = predictor_load.detail_contributions()\n",
    "detailed_contributions.head()"
   ]
  },
  {
   "cell_type": "code",
   "execution_count": null,
   "id": "a15db08b-bf45-44ac-b21a-dced89e3dbfb",
   "metadata": {},
   "outputs": [],
   "source": []
  }
 ],
 "metadata": {
  "kernelspec": {
   "display_name": "Python 3 (ipykernel)",
   "language": "python",
   "name": "python3"
  },
  "language_info": {
   "codemirror_mode": {
    "name": "ipython",
    "version": 3
   },
   "file_extension": ".py",
   "mimetype": "text/x-python",
   "name": "python",
   "nbconvert_exporter": "python",
   "pygments_lexer": "ipython3",
   "version": "3.8.12"
  }
 },
 "nbformat": 4,
 "nbformat_minor": 5
}
